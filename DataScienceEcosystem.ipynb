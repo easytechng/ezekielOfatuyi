Data Science Tools and Ecosystem
In this notebook, Data Science Tools and Ecosystem are summarized.

Objectives: List popular languages for Data Science

Python
R
SQL
Some of the popular languages that Data Scientists use are:

Python
R
SQL
Java
Julia

Some of the commonly used libraries used by Data Scientists include:

Pandas
NumPy
Scikit-Learn
Matplotlib
Tensorflow
                    Data Science Tools
                    Jupyter Notebook
                    RStudio
                    Spyder
Below are a few examples of evaluating arithmetic expressions in Python
# This a simple arithmetic expression to mutiply then add integers

(3*4)+5
17
# This will convert 200 minutes to hours by diving by 60

200/60
3.3333333333333335
Author
EzekielOFatuyi
