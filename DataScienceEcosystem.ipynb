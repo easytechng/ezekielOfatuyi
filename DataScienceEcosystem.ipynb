Data Science Tools and Ecosystem
In this notebook, Data Science Tools and Ecosystem are summarized.

Objectives: 
List popular languages for Data Science
Commonly used libraries used by Data Scientists
Data Science Tools
Arithmetic example

Some of the popular languages that Data Scientists use are:

Python
R
SQL

Some of the commonly used libraries used by Data Scientists include:

TensorFlow
NumPy
SciPy
Pandas
Matplotlib
Keras
SciKit-Learn
PyTorch

Data Science Tools

TensorFlow
R Studios
Jupyter Notebook

Below are a few examples of evaluating arithmetic expressions in Python:
(3*4)+5
17
200/60
3.3333333333333335
Author
Ezekiel Olusoji Fatuyi

 
